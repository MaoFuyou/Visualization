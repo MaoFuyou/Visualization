{
 "cells": [
  {
   "cell_type": "code",
   "execution_count": 1,
   "metadata": {},
   "outputs": [],
   "source": [
    "from matplotlib import pyplot as plt\n",
    "from mpl_toolkits.mplot3d import Axes3D\n",
    "from mpl_toolkits import mplot3d\n",
    "import numpy as np"
   ]
  },
  {
   "cell_type": "code",
   "execution_count": 2,
   "metadata": {},
   "outputs": [],
   "source": [
    "w1 = np.arange(-20,20,0.025)\n",
    "w2 = np.arange(-20,20,0.025)\n",
    "w1,w2 = np.meshgrid(w1,w2)\n",
    "lossfn = (2 - w1 - w2)**2 + (4 - 3*w1 - w2)**2"
   ]
  },
  {
   "cell_type": "code",
   "execution_count": 6,
   "metadata": {},
   "outputs": [
    {
     "data": {
      "application/vnd.jupyter.widget-view+json": {
       "model_id": "000d1b5d20194a4ebdeec162c5ced1a6",
       "version_major": 2,
       "version_minor": 0
      },
      "text/plain": [
       "interactive(children=(Dropdown(description='elev', options=(0, 15, 30), value=0), IntSlider(value=60, descript…"
      ]
     },
     "metadata": {},
     "output_type": "display_data"
    }
   ],
   "source": [
    "#定义一个绘制三维图像的函数！\n",
    "#elev 表示上下旋转的角度\n",
    "#azim表示平行旋转的角度\n",
    "\n",
    "def plot_3D(elev = 45, azim = 60, X =w1,y=w2):\n",
    "    fig,ax = plt.subplots(1,1,constrained_layout=True,figsize = (10,10))\n",
    "    ax = plt.subplot(projection= \"3d\")\n",
    "    ax.plot_surface(w1,w2,lossfn,cmap='rainbow',alpha = 0.7)\n",
    "    ax.view_init(elev=elev,azim = azim)\n",
    "    ax.set_xlabel(\"w1\",fontsize = 15)\n",
    "    ax.set_ylabel(\"w2\",fontsize = 15)\n",
    "    ax.set_zlabel(\"lossfn\",fontsize = 15)\n",
    "    plt.show()\n",
    "\n",
    "from ipywidgets import interact,fixed\n",
    "interact(plot_3D,elev=[0,15,30],azip =(-180,180),X = fixed(w1),y = fixed(w2))\n",
    "plt.show()"
   ]
  },
  {
   "cell_type": "code",
   "execution_count": null,
   "metadata": {},
   "outputs": [],
   "source": []
  }
 ],
 "metadata": {
  "kernelspec": {
   "display_name": "base",
   "language": "python",
   "name": "python3"
  },
  "language_info": {
   "codemirror_mode": {
    "name": "ipython",
    "version": 3
   },
   "file_extension": ".py",
   "mimetype": "text/x-python",
   "name": "python",
   "nbconvert_exporter": "python",
   "pygments_lexer": "ipython3",
   "version": "3.9.12"
  },
  "orig_nbformat": 4
 },
 "nbformat": 4,
 "nbformat_minor": 2
}
